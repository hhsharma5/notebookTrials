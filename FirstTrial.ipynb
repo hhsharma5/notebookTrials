{
  "nbformat": 4,
  "nbformat_minor": 0,
  "metadata": {
    "colab": {
      "provenance": [],
      "authorship_tag": "ABX9TyPCj1KSzTpBCTAQ924IoYMj",
      "include_colab_link": true
    },
    "kernelspec": {
      "name": "python3",
      "display_name": "Python 3"
    },
    "language_info": {
      "name": "python"
    }
  },
  "cells": [
    {
      "cell_type": "markdown",
      "metadata": {
        "id": "view-in-github",
        "colab_type": "text"
      },
      "source": [
        "<a href=\"https://colab.research.google.com/github/hhsharma5/notebookTrials/blob/main/FirstTrial.ipynb\" target=\"_parent\"><img src=\"https://colab.research.google.com/assets/colab-badge.svg\" alt=\"Open In Colab\"/></a>"
      ]
    },
    {
      "cell_type": "code",
      "execution_count": 2,
      "metadata": {
        "colab": {
          "base_uri": "https://localhost:8080/"
        },
        "id": "T2pVvVTVY6u1",
        "outputId": "caab46c9-3291-44bb-b886-569c848f8f3d"
      },
      "outputs": [
        {
          "output_type": "stream",
          "name": "stdout",
          "text": [
            "5\n"
          ]
        }
      ],
      "source": [
        "x = 5\n",
        "print(x)"
      ]
    },
    {
      "cell_type": "code",
      "source": [
        "# Importing array for array creations\n",
        "\n",
        "import array\n",
        "\n",
        "# Creating an array as integer type\n",
        "a = array.array('i', [1, 2, 3])\n",
        "\n",
        "print(a)"
      ],
      "metadata": {
        "id": "8YB6R5YHdDbH"
      },
      "execution_count": null,
      "outputs": []
    },
    {
      "cell_type": "markdown",
      "source": [
        "Some text here, its pretty cool\n",
        "\n",
        "```\n",
        "This is formatted as code\n",
        "```\n",
        "\n"
      ],
      "metadata": {
        "id": "9DZAc4Dtew6x"
      }
    },
    {
      "cell_type": "code",
      "source": [
        "# Using numpy to create arrays\n",
        "\n",
        "import numpy as np\n",
        "\n",
        "arr1 = np.array([2, 5, 6])\n",
        "print(arr1)\n",
        "print(type(arr1))\n",
        "print(arr1.size)\n",
        "print(arr1.ndim)\n",
        "print(arr1.dtype)\n",
        "\n",
        "'''\n",
        "Suppose you want to optimize the space and know the range beforehand\n",
        "you can set the bits with dtype\n",
        "''' \n",
        "arr2 = np.array([2, 3, 4], dtype=\"int8\")\n",
        "print(arr2.dtype)\n",
        "\n",
        "# create 2 d arrays\n",
        "arr3 = np.array([[1, 2, 3], [4, 5, 6]])\n",
        "print(arr3)\n",
        "print(arr3.ndim)\n",
        "\n",
        "# create 3 d array\n",
        "arr4 = np.array([[[1, 2], [3, 4]], [[5, 6], [7, 8]]])\n",
        "print(arr4)\n",
        "print(arr4.ndim)"
      ],
      "metadata": {
        "colab": {
          "base_uri": "https://localhost:8080/"
        },
        "id": "4JoO8VnDe9_o",
        "outputId": "63c4a25f-c315-4c48-d34c-c9f4b535db40"
      },
      "execution_count": 13,
      "outputs": [
        {
          "output_type": "stream",
          "name": "stdout",
          "text": [
            "[2 5 6]\n",
            "<class 'numpy.ndarray'>\n",
            "3\n",
            "1\n",
            "int64\n",
            "int8\n",
            "[[1 2 3]\n",
            " [4 5 6]]\n",
            "2\n",
            "[[[1 2]\n",
            "  [3 4]]\n",
            "\n",
            " [[5 6]\n",
            "  [7 8]]]\n",
            "3\n"
          ]
        }
      ]
    },
    {
      "cell_type": "code",
      "source": [
        "# first and last element of the array\n",
        "\n",
        "arr2d = np.array([[1, 2, 3], [4, 5, 6]])\n",
        "print(arr2d[0], arr2d[-1])\n",
        "\n",
        "# slicing\n",
        "arr = np.array([1, 2, 3, 4, 5])\n",
        "print(arr[::2])\n",
        "\n",
        "# 2d array\n",
        "arr = np.array([[1, 2, 3], [4, 5, 6]])\n",
        "print(arr[1, 1:])\n",
        "\n",
        "# print by rows\n",
        "print(arr[0:2, 2])\n"
      ],
      "metadata": {
        "colab": {
          "base_uri": "https://localhost:8080/"
        },
        "id": "j7TIuqxtt4en",
        "outputId": "622785ce-8911-4703-d6c8-b08225cabb13"
      },
      "execution_count": 22,
      "outputs": [
        {
          "output_type": "stream",
          "name": "stdout",
          "text": [
            "[1 2 3] [4 5 6]\n",
            "[1 3 5]\n",
            "[5 6]\n",
            "[3 6]\n"
          ]
        }
      ]
    }
  ]
}