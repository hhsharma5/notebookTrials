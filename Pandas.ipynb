{
  "nbformat": 4,
  "nbformat_minor": 0,
  "metadata": {
    "colab": {
      "provenance": [],
      "authorship_tag": "ABX9TyN2AxEqqB+tCrJGk4peY7Rk",
      "include_colab_link": true
    },
    "kernelspec": {
      "name": "python3",
      "display_name": "Python 3"
    },
    "language_info": {
      "name": "python"
    }
  },
  "cells": [
    {
      "cell_type": "markdown",
      "metadata": {
        "id": "view-in-github",
        "colab_type": "text"
      },
      "source": [
        "<a href=\"https://colab.research.google.com/github/hhsharma5/notebookTrials/blob/main/Pandas.ipynb\" target=\"_parent\"><img src=\"https://colab.research.google.com/assets/colab-badge.svg\" alt=\"Open In Colab\"/></a>"
      ]
    },
    {
      "cell_type": "code",
      "execution_count": 1,
      "metadata": {
        "id": "z0Gv0rHcTgiL",
        "colab": {
          "base_uri": "https://localhost:8080/"
        },
        "outputId": "c6e42640-47c6-470b-f7dc-7f6226ed1fe4"
      },
      "outputs": [
        {
          "output_type": "stream",
          "name": "stdout",
          "text": [
            "   Column1 Column2  Column3\n",
            "0        1       A      100\n",
            "1        2       B      200\n",
            "2        3       C      150\n",
            "3        4       A      120\n",
            "4        5       B      210\n",
            "5        6       C      180\n",
            "6        7       A      130\n",
            "7        8       B      220\n",
            "8        9       C      170\n",
            "9       10       A      140\n"
          ]
        }
      ],
      "source": [
        "'''\n",
        "Panda's have 2 types of data styles - \n",
        "Series : Linear data\n",
        "DataFrame : Tabular data\n",
        "'''\n",
        "\n",
        "import pandas as pd\n",
        "\n",
        "df = pd.read_csv(\"example.csv\")\n",
        "\n",
        "print(df)\n"
      ]
    },
    {
      "cell_type": "code",
      "source": [
        "print(type(df))\n",
        "print(df['Column2'])\n",
        "print(type(df['Column2']))"
      ],
      "metadata": {
        "colab": {
          "base_uri": "https://localhost:8080/"
        },
        "id": "f-6HG3DpphNQ",
        "outputId": "9383ce77-3301-4d8f-d23c-407b42c6901d"
      },
      "execution_count": 4,
      "outputs": [
        {
          "output_type": "stream",
          "name": "stdout",
          "text": [
            "<class 'pandas.core.frame.DataFrame'>\n",
            "0    A\n",
            "1    B\n",
            "2    C\n",
            "3    A\n",
            "4    B\n",
            "5    C\n",
            "6    A\n",
            "7    B\n",
            "8    C\n",
            "9    A\n",
            "Name: Column2, dtype: object\n",
            "<class 'pandas.core.series.Series'>\n"
          ]
        }
      ]
    },
    {
      "cell_type": "code",
      "source": [
        "print(df[['Column1', 'Column2']])\n",
        "\n",
        "map = {\n",
        "    'key1' : ['a', 'b', 'c'],\n",
        "    'key2' : ['1', '2', '3']\n",
        "}\n",
        "\n",
        "dfNew = pd.DataFrame(map)\n",
        "print(dfNew)"
      ],
      "metadata": {
        "colab": {
          "base_uri": "https://localhost:8080/"
        },
        "id": "9Dr39q-MqOnL",
        "outputId": "b689151c-7205-461e-dc26-d22ef8c65cb7"
      },
      "execution_count": 7,
      "outputs": [
        {
          "output_type": "stream",
          "name": "stdout",
          "text": [
            "   Column1 Column2\n",
            "0        1       A\n",
            "1        2       B\n",
            "2        3       C\n",
            "3        4       A\n",
            "4        5       B\n",
            "5        6       C\n",
            "6        7       A\n",
            "7        8       B\n",
            "8        9       C\n",
            "9       10       A\n",
            "  key1 key2\n",
            "0    a    1\n",
            "1    b    2\n",
            "2    c    3\n"
          ]
        }
      ]
    },
    {
      "cell_type": "code",
      "source": [
        "# Instead of the inbuilt index, we can even create our own indexes\n",
        "\n",
        "df = pd.DataFrame(map, index=['Person1', 'Person2', 'Person3'])\n",
        "print(df)\n",
        "print(df.loc['Person3'])\n",
        "\n",
        "# Normally you'll be passing a list instead of these indexes"
      ],
      "metadata": {
        "colab": {
          "base_uri": "https://localhost:8080/"
        },
        "id": "ZTPk9bQGsPkk",
        "outputId": "37f4e6ab-7c75-420d-dde1-5cd757e8bcae"
      },
      "execution_count": 12,
      "outputs": [
        {
          "output_type": "stream",
          "name": "stdout",
          "text": [
            "        key1 key2\n",
            "Person1    a    1\n",
            "Person2    b    2\n",
            "Person3    c    3\n",
            "key1    c\n",
            "key2    3\n",
            "Name: Person3, dtype: object\n"
          ]
        }
      ]
    },
    {
      "cell_type": "code",
      "source": [
        "# You can even locate by indexes\n",
        "\n",
        "print(df.iloc[2])"
      ],
      "metadata": {
        "colab": {
          "base_uri": "https://localhost:8080/"
        },
        "id": "qf7Wpj_LtqUW",
        "outputId": "fba22b50-1c00-4c6f-af05-1045d431a23c"
      },
      "execution_count": 13,
      "outputs": [
        {
          "output_type": "stream",
          "name": "stdout",
          "text": [
            "key1    c\n",
            "key2    3\n",
            "Name: Person3, dtype: object\n"
          ]
        }
      ]
    }
  ]
}