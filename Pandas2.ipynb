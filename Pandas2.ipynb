{
  "nbformat": 4,
  "nbformat_minor": 0,
  "metadata": {
    "colab": {
      "provenance": [],
      "authorship_tag": "ABX9TyNfTrm1DlY5Nvv/JrpTN2kw",
      "include_colab_link": true
    },
    "kernelspec": {
      "name": "python3",
      "display_name": "Python 3"
    },
    "language_info": {
      "name": "python"
    }
  },
  "cells": [
    {
      "cell_type": "markdown",
      "metadata": {
        "id": "view-in-github",
        "colab_type": "text"
      },
      "source": [
        "<a href=\"https://colab.research.google.com/github/hhsharma5/notebookTrials/blob/main/Pandas2.ipynb\" target=\"_parent\"><img src=\"https://colab.research.google.com/assets/colab-badge.svg\" alt=\"Open In Colab\"/></a>"
      ]
    },
    {
      "cell_type": "code",
      "execution_count": null,
      "metadata": {
        "colab": {
          "base_uri": "https://localhost:8080/"
        },
        "id": "R8U-ENC1uyqP",
        "outputId": "04df41bb-60de-4b9a-c9a0-c30c8c872161"
      },
      "outputs": [
        {
          "output_type": "stream",
          "name": "stdout",
          "text": [
            "0    1\n",
            "1    2\n",
            "2    3\n",
            "3    4\n",
            "4    5\n",
            "dtype: int64\n"
          ]
        }
      ],
      "source": [
        "import pandas as pd\n",
        "\n",
        "series = pd.Series([1, 2, 3, 4, 5])\n",
        "\n",
        "print(series)"
      ]
    },
    {
      "cell_type": "code",
      "source": [
        "df = pd.read_csv('survey_results_public.csv')\n",
        "\n",
        "print(df.head().to_string())"
      ],
      "metadata": {
        "colab": {
          "base_uri": "https://localhost:8080/"
        },
        "id": "HQNCWEH3wZm_",
        "outputId": "1da925fa-2949-4ad0-d418-05c8a93f8d8c"
      },
      "execution_count": 3,
      "outputs": [
        {
          "output_type": "stream",
          "name": "stdout",
          "text": [
            "   ResponseId                                                                     MainBranch           Employment                            RemoteWork                          CodingActivities                                          EdLevel                                                                                                                                   LearnCode                                                                                                                                   LearnCodeOnline LearnCodeCoursesCert YearsCode YearsCodePro                                                                                                                             DevType               OrgSize      PurchaseInfluence                                                          BuyNewTool                                               Country                   Currency  CompTotal CompFreq                       LanguageHaveWorkedWith                      LanguageWantToWorkWith                                                         DatabaseHaveWorkedWith                                          DatabaseWantToWorkWith    PlatformHaveWorkedWith    PlatformWantToWorkWith                        WebframeHaveWorkedWith                WebframeWantToWorkWith MiscTechHaveWorkedWith MiscTechWantToWorkWith ToolsTechHaveWorkedWith ToolsTechWantToWorkWith                      NEWCollabToolsHaveWorkedWith                NEWCollabToolsWantToWorkWith OpSysProfessional use                  OpSysPersonal use         VersionControlSystem                                                                                               VCInteraction  VCHostingPersonal use  VCHostingProfessional use OfficeStackAsyncHaveWorkedWith OfficeStackAsyncWantToWorkWith OfficeStackSyncHaveWorkedWith OfficeStackSyncWantToWorkWith        Blockchain                                                                                                                                               NEWSOSites             SOVisitFreq SOAccount              SOPartFreq           SOComm              Age Gender Trans                Sexuality Ethnicity      Accessibility                                                                                               MentalHealth TBranch ICorPM  WorkExp Knowledge_1 Knowledge_2 Knowledge_3 Knowledge_4 Knowledge_5 Knowledge_6 Knowledge_7 Frequency_1 Frequency_2 Frequency_3 TimeSearching TimeAnswering Onboarding ProfessionalTech TrueFalse_1 TrueFalse_2 TrueFalse_3           SurveyLength                  SurveyEase  ConvertedCompYearly\n",
            "0           1                                                                  None of these                  NaN                                   NaN                                       NaN                                              NaN                                                                                                                                         NaN                                                                                                                                               NaN                  NaN       NaN          NaN                                                                                                                                 NaN                   NaN                    NaN                                                                 NaN                                                   NaN                        NaN        NaN      NaN                                          NaN                                         NaN                                                                            NaN                                                             NaN                       NaN                       NaN                                           NaN                                   NaN                    NaN                    NaN                     NaN                     NaN                                               NaN                                         NaN                   NaN                                NaN                          NaN                                                                                                         NaN                    NaN                        NaN                            NaN                            NaN                           NaN                           NaN               NaN                                                                                                                                                      NaN                     NaN       NaN                     NaN              NaN              NaN    NaN   NaN                      NaN       NaN                NaN                                                                                                        NaN     NaN    NaN      NaN         NaN         NaN         NaN         NaN         NaN         NaN         NaN         NaN         NaN         NaN           NaN           NaN        NaN              NaN         NaN         NaN         NaN                    NaN                         NaN                  NaN\n",
            "1           2                                                 I am a developer by profession  Employed, full-time                          Fully remote  Hobby;Contribute to open-source projects                                              NaN                                                                                                                                         NaN                                                                                                                                               NaN                  NaN       NaN          NaN                                                                                                                                 NaN                   NaN                    NaN                                                                 NaN                                                Canada       CAD\\tCanadian dollar        NaN      NaN                        JavaScript;TypeScript                             Rust;TypeScript                                                                            NaN                                                             NaN                       NaN                       NaN                                           NaN                                   NaN                    NaN                    NaN                     NaN                     NaN                                               NaN                                         NaN                 macOS  Windows Subsystem for Linux (WSL)                          Git                                                                                                         NaN                    NaN                        NaN                            NaN                            NaN                           NaN                           NaN  Very unfavorable  Collectives on Stack Overflow;Stack Overflow for Teams (private knowledge sharing & collaboration platform for companies);Stack Overflow;Stack Exchange   Daily or almost daily       Yes   Daily or almost daily         Not sure              NaN    NaN   NaN                      NaN       NaN                NaN                                                                                                        NaN      No    NaN      NaN         NaN         NaN         NaN         NaN         NaN         NaN         NaN         NaN         NaN         NaN           NaN           NaN        NaN              NaN         NaN         NaN         NaN               Too long                   Difficult                  NaN\n",
            "2           3  I am not primarily a developer, but I write code sometimes as part of my work  Employed, full-time  Hybrid (some remote, some in-person)                                     Hobby  Master’s degree (M.A., M.S., M.Eng., MBA, etc.)  Books / Physical media;Friend or family member;Other online resources (e.g., videos, blogs, forum);School (i.e., University, College, etc)                                                                  Technical documentation;Blogs;Programming Games;Written Tutorials;Stack Overflow                  NaN        14            5                        Data scientist or machine learning specialist;Developer, front-end;Engineer, data;Engineer, site reliability    20 to 99 employees  I have some influence                                                                 NaN  United Kingdom of Great Britain and Northern Ireland        GBP\\tPound sterling    32000.0   Yearly            C#;C++;HTML/CSS;JavaScript;Python       C#;C++;HTML/CSS;JavaScript;TypeScript                                                           Microsoft SQL Server                                            Microsoft SQL Server                       NaN                       NaN                                    Angular.js                    Angular;Angular.js                 Pandas                   .NET                     NaN                     NaN                           Notepad++;Visual Studio                     Notepad++;Visual Studio               Windows                            Windows                          Git                                                                                                 Code editor                    NaN                        NaN                            NaN                            NaN               Microsoft Teams               Microsoft Teams  Very unfavorable                                                                                              Collectives on Stack Overflow;Stack Overflow;Stack Exchange  Multiple times per day       Yes  Multiple times per day          Neutral  25-34 years old    Man    No                 Bisexual     White  None of the above  I have a mood or emotional disorder (e.g., depression, bipolar disorder, etc.);I have an anxiety disorder      No    NaN      NaN         NaN         NaN         NaN         NaN         NaN         NaN         NaN         NaN         NaN         NaN           NaN           NaN        NaN              NaN         NaN         NaN         NaN  Appropriate in length  Neither easy nor difficult              40205.0\n",
            "3           4                                                 I am a developer by profession  Employed, full-time                          Fully remote              I don’t code outside of work     Bachelor’s degree (B.A., B.S., B.Eng., etc.)                                                                              Books / Physical media;School (i.e., University, College, etc)                                                                                                                                               NaN                  NaN        20           17                                                                                                               Developer, full-stack  100 to 499 employees  I have some influence                                             Other (please specify):                                                Israel    ILS\\tIsraeli new shekel    60000.0  Monthly                 C#;JavaScript;SQL;TypeScript                           C#;SQL;TypeScript                                                           Microsoft SQL Server                                            Microsoft SQL Server                       NaN                       NaN                         ASP.NET;ASP.NET Core                  ASP.NET;ASP.NET Core                    .NET                   .NET                     NaN                     NaN        Notepad++;Visual Studio;Visual Studio Code  Notepad++;Visual Studio;Visual Studio Code               Windows                            Windows                          Git  Code editor;Command-line;Version control hosting service web GUI;Dedicated version control GUI application                    NaN                        NaN    Jira Work Management;Trello    Jira Work Management;Trello                    Slack;Zoom                    Slack;Zoom  Very unfavorable  Collectives on Stack Overflow;Stack Overflow for Teams (private knowledge sharing & collaboration platform for companies);Stack Overflow;Stack Exchange   Daily or almost daily       Yes    A few times per week  Yes, definitely  35-44 years old    Man    No  Straight / Heterosexual     White  None of the above                                                                                          None of the above      No    NaN      NaN         NaN         NaN         NaN         NaN         NaN         NaN         NaN         NaN         NaN         NaN           NaN           NaN        NaN              NaN         NaN         NaN         NaN  Appropriate in length                        Easy             215232.0\n",
            "4           5                                                 I am a developer by profession  Employed, full-time  Hybrid (some remote, some in-person)                                     Hobby     Bachelor’s degree (B.A., B.S., B.Eng., etc.)                             Other online resources (e.g., videos, blogs, forum);School (i.e., University, College, etc);On the job training  Technical documentation;Blogs;Stack Overflow;Online books;Video-based Online Courses;Online challenges (e.g., daily or weekly coding challenges)                  NaN         8            3  Developer, front-end;Developer, full-stack;Developer, back-end;Developer, desktop or enterprise applications;Developer, QA or test    20 to 99 employees  I have some influence  Start a free trial;Visit developer communities like Stack Overflow                              United States of America  USD\\tUnited States dollar        NaN      NaN  C#;HTML/CSS;JavaScript;SQL;Swift;TypeScript  C#;Elixir;F#;Go;JavaScript;Rust;TypeScript  Cloud Firestore;Elasticsearch;Microsoft SQL Server;Firebase Realtime Database  Cloud Firestore;Elasticsearch;Firebase Realtime Database;Redis  Firebase;Microsoft Azure  Firebase;Microsoft Azure  Angular;ASP.NET;ASP.NET Core ;jQuery;Node.js  Angular;ASP.NET Core ;Blazor;Node.js                   .NET      .NET;Apache Kafka                     npm       Docker;Kubernetes  Notepad++;Visual Studio;Visual Studio Code;Xcode      Rider;Visual Studio;Visual Studio Code               Windows                      macOS;Windows  Git;Other (please specify):                                                                                                 Code editor                    NaN                        NaN                            NaN                            NaN          Microsoft Teams;Zoom                           NaN       Unfavorable  Collectives on Stack Overflow;Stack Overflow for Teams (private knowledge sharing & collaboration platform for companies);Stack Overflow;Stack Exchange  Multiple times per day       Yes   Daily or almost daily  Yes, definitely  25-34 years old    NaN   NaN                      NaN       NaN                NaN                                                                                                        NaN      No    NaN      NaN         NaN         NaN         NaN         NaN         NaN         NaN         NaN         NaN         NaN         NaN           NaN           NaN        NaN              NaN         NaN         NaN         NaN               Too long                        Easy                  NaN\n"
          ]
        }
      ]
    },
    {
      "cell_type": "code",
      "source": [
        "print(df.info())\n"
      ],
      "metadata": {
        "id": "y0Knnwe8yTis"
      },
      "execution_count": null,
      "outputs": []
    },
    {
      "cell_type": "code",
      "source": [
        "print(df.shape)"
      ],
      "metadata": {
        "colab": {
          "base_uri": "https://localhost:8080/"
        },
        "id": "0c9YrByJypIw",
        "outputId": "fae8871b-a536-4670-9f0d-fc6d73c8bfaf"
      },
      "execution_count": 7,
      "outputs": [
        {
          "output_type": "stream",
          "name": "stdout",
          "text": [
            "(727, 79)\n"
          ]
        }
      ]
    },
    {
      "cell_type": "code",
      "source": [
        "df = pd.read_csv('example.csv')\n",
        "\n",
        "# print 3rd row and 2nd col\n",
        "\n",
        "print(df.iloc[3, 2])\n",
        "print(df.iloc[3][2])\n",
        "\n",
        "df.iloc[3, 2] = 100\n",
        "\n",
        "print(df.iloc[3][2])"
      ],
      "metadata": {
        "colab": {
          "base_uri": "https://localhost:8080/"
        },
        "id": "xJSANkYgyy0K",
        "outputId": "1ee90b56-716e-4785-d60d-9d309731aa64"
      },
      "execution_count": 11,
      "outputs": [
        {
          "output_type": "stream",
          "name": "stdout",
          "text": [
            "120\n",
            "120\n",
            "100\n"
          ]
        }
      ]
    },
    {
      "cell_type": "code",
      "source": [
        "people = {\n",
        "    \"first\" : [\"Mat\", \"Jane\", \"John\"],\n",
        "    \"last\" : [\"MatLast\", \"JaneLast\", \"JohnLast\"],\n",
        "    \"email\" : [\"mat@gmail.com\", \"jane@gmail.com\", \"john@gmail.com\"]\n",
        "}\n",
        "\n",
        "df = pd.DataFrame(people)\n",
        "\n",
        "filter = df[\"last\"] == \"JohnLast\"\n",
        "\n",
        "print(df[filter])"
      ],
      "metadata": {
        "colab": {
          "base_uri": "https://localhost:8080/"
        },
        "id": "FZ7Z6aWB0vYG",
        "outputId": "7d6af61b-8689-45d6-a75b-ba169cbfb323"
      },
      "execution_count": 12,
      "outputs": [
        {
          "output_type": "stream",
          "name": "stdout",
          "text": [
            "  first      last           email\n",
            "2  John  JohnLast  john@gmail.com\n"
          ]
        }
      ]
    },
    {
      "cell_type": "code",
      "source": [
        "df = pd.read_csv(\"survey_results_public.csv\")\n",
        "\n",
        "filter2 = df['Employment'] == 'Employed, full-time'\n",
        "filter3 = df['RemoteWork'] == 'Fully remote'\n",
        "\n",
        "filter4 = filter2 & filter3 # and -> &  and or -> |\n",
        "\n",
        "print(df[filter4].head())"
      ],
      "metadata": {
        "id": "a0oVoPoA3iYQ"
      },
      "execution_count": null,
      "outputs": []
    },
    {
      "cell_type": "code",
      "source": [
        "# How many students have worked with python\n",
        "\n",
        "filter5 = df['Country'] == 'United States of America'\n",
        "filter6 = df['LanguageHaveWorkedWith'].str.contains(\"Python\")\n",
        "\n",
        "print(df[filter5 & filter6][['Country', 'LanguageHaveWorkedWith']].head())"
      ],
      "metadata": {
        "colab": {
          "base_uri": "https://localhost:8080/"
        },
        "id": "PvD5UgRO4vi9",
        "outputId": "d26827a6-86e7-4eab-94b4-a369ba8be162"
      },
      "execution_count": 26,
      "outputs": [
        {
          "output_type": "stream",
          "name": "stdout",
          "text": [
            "                     Country  \\\n",
            "11  United States of America   \n",
            "14  United States of America   \n",
            "55  United States of America   \n",
            "63  United States of America   \n",
            "76  United States of America   \n",
            "\n",
            "                               LanguageHaveWorkedWith  \n",
            "11  C#;HTML/CSS;JavaScript;PowerShell;Python;Rust;SQL  \n",
            "14        HTML/CSS;JavaScript;PHP;Python;R;Ruby;Scala  \n",
            "55  C#;HTML/CSS;Java;JavaScript;Python;SQL;TypeScript  \n",
            "63  Bash/Shell;C;Go;HTML/CSS;Java;JavaScript;Pytho...  \n",
            "76                           C#;JavaScript;Python;SQL  \n"
          ]
        }
      ]
    },
    {
      "cell_type": "code",
      "source": [
        "print(df['Country'].value_counts())"
      ],
      "metadata": {
        "colab": {
          "base_uri": "https://localhost:8080/"
        },
        "id": "O3SrXlEp8EKN",
        "outputId": "d539e78c-0e99-4413-e1cd-09a240596c7c"
      },
      "execution_count": 28,
      "outputs": [
        {
          "output_type": "stream",
          "name": "stdout",
          "text": [
            "United States of America                                228\n",
            "United Kingdom of Great Britain and Northern Ireland     74\n",
            "Germany                                                  54\n",
            "Canada                                                   41\n",
            "France                                                   32\n",
            "                                                       ... \n",
            "Bulgaria                                                  1\n",
            "Oman                                                      1\n",
            "Madagascar                                                1\n",
            "Taiwan                                                    1\n",
            "Dominican Republic                                        1\n",
            "Name: Country, Length: 64, dtype: int64\n"
          ]
        }
      ]
    }
  ]
}