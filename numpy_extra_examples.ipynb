{
  "nbformat": 4,
  "nbformat_minor": 0,
  "metadata": {
    "colab": {
      "provenance": [],
      "authorship_tag": "ABX9TyOgKQdo8fc/ofCjv+vY4JvY",
      "include_colab_link": true
    },
    "kernelspec": {
      "name": "python3",
      "display_name": "Python 3"
    },
    "language_info": {
      "name": "python"
    }
  },
  "cells": [
    {
      "cell_type": "markdown",
      "metadata": {
        "id": "view-in-github",
        "colab_type": "text"
      },
      "source": [
        "<a href=\"https://colab.research.google.com/github/hhsharma5/notebookTrials/blob/main/numpy_extra_examples.ipynb\" target=\"_parent\"><img src=\"https://colab.research.google.com/assets/colab-badge.svg\" alt=\"Open In Colab\"/></a>"
      ]
    },
    {
      "cell_type": "code",
      "execution_count": 3,
      "metadata": {
        "colab": {
          "base_uri": "https://localhost:8080/"
        },
        "id": "A8a_dbZk36Fr",
        "outputId": "4949730f-baf2-4853-fc5f-aff8c20ae6df"
      },
      "outputs": [
        {
          "output_type": "stream",
          "name": "stdout",
          "text": [
            "[1 2 3 4 5]\n",
            "[42  2  3  4  5]\n",
            "[43  2  3  4  5]\n",
            "[43  2  3  4  5]\n"
          ]
        }
      ],
      "source": [
        "'''\n",
        "Numpy array copy as view\n",
        "\n",
        "The main difference between a copy and a view of an array is that\n",
        "a copy is a new array and a view is just a view of the original array\n",
        "'''\n",
        "\n",
        "import numpy as np\n",
        "\n",
        "arr = np.array([1, 2, 3, 4, 5])\n",
        "x = arr.copy()\n",
        "x[0] = 42\n",
        "\n",
        "print(arr)\n",
        "print(x)\n",
        "\n",
        "# view will affect the original array\n",
        "y = arr.view()\n",
        "y[0] = 43\n",
        "print(arr)\n",
        "print(y)"
      ]
    },
    {
      "cell_type": "code",
      "source": [
        "# shape\n",
        "arr = np.array([[1, 2, 3], [5, 6, 7]])\n",
        "print(arr.shape)"
      ],
      "metadata": {
        "colab": {
          "base_uri": "https://localhost:8080/"
        },
        "id": "qetWnT0v5gJ5",
        "outputId": "61296e1e-39eb-4f5d-ce56-9c1eafdd292d"
      },
      "execution_count": 4,
      "outputs": [
        {
          "output_type": "stream",
          "name": "stdout",
          "text": [
            "(2, 3)\n"
          ]
        }
      ]
    },
    {
      "cell_type": "code",
      "source": [
        "# reshape\n",
        "arr = np.array([1, 2, 3, 4, 5, 6])\n",
        "newarr = arr.reshape(2, 3)\n",
        "print(arr)\n",
        "print(newarr)"
      ],
      "metadata": {
        "colab": {
          "base_uri": "https://localhost:8080/"
        },
        "id": "LFXtECg66m8m",
        "outputId": "3e743ed5-ec61-4e48-cc03-05955b7d6b91"
      },
      "execution_count": 6,
      "outputs": [
        {
          "output_type": "stream",
          "name": "stdout",
          "text": [
            "[1 2 3 4 5 6]\n",
            "[[1 2 3]\n",
            " [4 5 6]]\n"
          ]
        }
      ]
    },
    {
      "cell_type": "code",
      "source": [
        "# iterating with numpy\n",
        "\n",
        "# simple iteration \n",
        "arr = np.array([[[1, 2], [3, 4]], [[5, 6], [7,8]]])\n",
        "\n",
        "for x in arr:\n",
        "  for y in x:\n",
        "    for z in y:\n",
        "      print(z)\n",
        "\n",
        "print(\"=======\")\n",
        "\n",
        "# numpy nd iterator\n",
        "for x in np.nditer(arr):\n",
        "  print(x)\n",
        "\n",
        "print(\"======\")\n",
        "for id, x in np.ndenumerate(arr):\n",
        "  print(id, x)"
      ],
      "metadata": {
        "id": "v3suV6DW7h_1"
      },
      "execution_count": null,
      "outputs": []
    },
    {
      "cell_type": "code",
      "source": [
        "# Joining arrays\n",
        "\n",
        "arr1 = np.array([1, 2, 3])\n",
        "arr2 = np.array([4, 5, 6])\n",
        "arr3 = np.concatenate((arr1, arr2))\n",
        "print(arr3)\n",
        "\n",
        "# join 2d arrays by rows\n",
        "\n",
        "arr1 = np.array([[1, 2, 3], [4, 5, 6]])\n",
        "arr2 = np.array([[7, 8, 9], [10, 11, 12]])\n",
        "print(np.concatenate((arr1, arr2)))\n",
        "\n",
        "# default axis is 0\n",
        "# join by columns \n",
        "print(np.concatenate((arr1, arr2), axis=1))"
      ],
      "metadata": {
        "colab": {
          "base_uri": "https://localhost:8080/"
        },
        "id": "P7879I4K8oY3",
        "outputId": "ac57785d-e313-46a4-c99e-00280e091360"
      },
      "execution_count": 15,
      "outputs": [
        {
          "output_type": "stream",
          "name": "stdout",
          "text": [
            "[1 2 3 4 5 6]\n",
            "[[ 1  2  3]\n",
            " [ 4  5  6]\n",
            " [ 7  8  9]\n",
            " [10 11 12]]\n",
            "[[ 1  2  3  7  8  9]\n",
            " [ 4  5  6 10 11 12]]\n"
          ]
        }
      ]
    },
    {
      "cell_type": "code",
      "source": [
        "# Filtering\n",
        "\n",
        "arr = np.array([41, 42, 43, 44])\n",
        "evenFilter = [False, True, False, True]\n",
        "\n",
        "newArr = arr[evenFilter]\n",
        "print(newArr)\n",
        "\n",
        "# shortcut of creating a fiter\n",
        "newEvenFilter = (arr % 2) == 0\n",
        "newFinalArr = arr[newEvenFilter]\n",
        "print(newFinalArr)\n",
        "\n",
        "# addition\n",
        "print(arr + 10)"
      ],
      "metadata": {
        "colab": {
          "base_uri": "https://localhost:8080/"
        },
        "id": "N1GVZYp7-_K4",
        "outputId": "29527397-f2b3-4057-e108-c0e61542e63d"
      },
      "execution_count": 18,
      "outputs": [
        {
          "output_type": "stream",
          "name": "stdout",
          "text": [
            "[42 44]\n",
            "[42 44]\n",
            "[51 52 53 54]\n"
          ]
        }
      ]
    }
  ]
}