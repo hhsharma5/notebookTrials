{
  "nbformat": 4,
  "nbformat_minor": 0,
  "metadata": {
    "colab": {
      "provenance": [],
      "authorship_tag": "ABX9TyMMQbl3GyZXki9tzmoUkgA+",
      "include_colab_link": true
    },
    "kernelspec": {
      "name": "python3",
      "display_name": "Python 3"
    },
    "language_info": {
      "name": "python"
    }
  },
  "cells": [
    {
      "cell_type": "markdown",
      "metadata": {
        "id": "view-in-github",
        "colab_type": "text"
      },
      "source": [
        "<a href=\"https://colab.research.google.com/github/hhsharma5/notebookTrials/blob/main/numpy_extra_examples.ipynb\" target=\"_parent\"><img src=\"https://colab.research.google.com/assets/colab-badge.svg\" alt=\"Open In Colab\"/></a>"
      ]
    },
    {
      "cell_type": "code",
      "execution_count": 3,
      "metadata": {
        "colab": {
          "base_uri": "https://localhost:8080/"
        },
        "id": "A8a_dbZk36Fr",
        "outputId": "4949730f-baf2-4853-fc5f-aff8c20ae6df"
      },
      "outputs": [
        {
          "output_type": "stream",
          "name": "stdout",
          "text": [
            "[1 2 3 4 5]\n",
            "[42  2  3  4  5]\n",
            "[43  2  3  4  5]\n",
            "[43  2  3  4  5]\n"
          ]
        }
      ],
      "source": [
        "'''\n",
        "Numpy array copy as view\n",
        "\n",
        "The main difference between a copy and a view of an array is that\n",
        "a copy is a new array and a view is just a view of the original array\n",
        "'''\n",
        "\n",
        "import numpy as np\n",
        "\n",
        "arr = np.array([1, 2, 3, 4, 5])\n",
        "x = arr.copy()\n",
        "x[0] = 42\n",
        "\n",
        "print(arr)\n",
        "print(x)\n",
        "\n",
        "# view will affect the original array\n",
        "y = arr.view()\n",
        "y[0] = 43\n",
        "print(arr)\n",
        "print(y)"
      ]
    },
    {
      "cell_type": "code",
      "source": [
        "# shape\n",
        "arr = np.array([[1, 2, 3], [5, 6, 7]])\n",
        "print(arr.shape)"
      ],
      "metadata": {
        "colab": {
          "base_uri": "https://localhost:8080/"
        },
        "id": "qetWnT0v5gJ5",
        "outputId": "61296e1e-39eb-4f5d-ce56-9c1eafdd292d"
      },
      "execution_count": 4,
      "outputs": [
        {
          "output_type": "stream",
          "name": "stdout",
          "text": [
            "(2, 3)\n"
          ]
        }
      ]
    },
    {
      "cell_type": "code",
      "source": [
        "# reshape\n",
        "arr = np.array([1, 2, 3, 4, 5, 6])\n",
        "newarr = arr.reshape(2, 3)\n",
        "print(arr)\n",
        "print(newarr)"
      ],
      "metadata": {
        "colab": {
          "base_uri": "https://localhost:8080/"
        },
        "id": "LFXtECg66m8m",
        "outputId": "3e743ed5-ec61-4e48-cc03-05955b7d6b91"
      },
      "execution_count": 6,
      "outputs": [
        {
          "output_type": "stream",
          "name": "stdout",
          "text": [
            "[1 2 3 4 5 6]\n",
            "[[1 2 3]\n",
            " [4 5 6]]\n"
          ]
        }
      ]
    }
  ]
}